{
 "cells": [
  {
   "cell_type": "markdown",
   "metadata": {},
   "source": [
    "First we are going to train and predict the K-means clustering algorithm on the Iris dataset. To make it easy we will assume we have 3 clusters.\n",
    "(Later we will learn how to choose the right amount of clusters)"
   ]
  },
  {
   "cell_type": "code",
   "execution_count": null,
   "metadata": {},
   "outputs": [],
   "source": [
    "import sklearn\n",
    "from sklearn.cluster import KMeans\n",
    "\n",
    "from sklearn import datasets\n",
    "iris = datasets.load_iris()\n",
    "X, y = iris.data, iris.target\n",
    "\n",
    "model = KMeans(n_clusters=3)\n",
    "model.fit(X)\n",
    "labels = model.predict(X)\n",
    "print(labels)\n"
   ]
  },
  {
   "cell_type": "markdown",
   "metadata": {},
   "source": [
    "To test out how well this works, we will use new samples to try to predict the cluster\n"
   ]
  },
  {
   "cell_type": "code",
   "execution_count": null,
   "metadata": {},
   "outputs": [],
   "source": [
    "new_samples = [[ 5.7, 4.4, 1.5, 0.4],\n",
    "               [ 6.5, 3., 5.5, 1.8],\n",
    "               [ 5.8, 2.7, 5.1, 1.9]]\n",
    "new_labels = model.predict(new_samples)\n",
    "print(new_labels)"
   ]
  },
  {
   "cell_type": "markdown",
   "metadata": {},
   "source": [
    "Scatter plots the predicted labels will have a different color"
   ]
  },
  {
   "cell_type": "code",
   "execution_count": null,
   "metadata": {},
   "outputs": [],
   "source": [
    "import matplotlib.pyplot as plt\n",
    "xs = X[:,0]\n",
    "ys = X[:,2]\n",
    "plt.scatter(xs, ys, c=labels)\n",
    "plt.show()"
   ]
  },
  {
   "cell_type": "markdown",
   "metadata": {},
   "source": [
    "Now we are going to measure how well we have done by comparing our clusters with the actual labels in the dataset using crosstabulation."
   ]
  },
  {
   "cell_type": "code",
   "execution_count": null,
   "metadata": {},
   "outputs": [],
   "source": [
    "import pandas as pd\n",
    "df = pd.DataFrame({'labels': labels, 'actual': y})\n",
    "print(df)\n",
    "ct = pd.crosstab(df['labels'], df['actual'])\n",
    "print(ct)"
   ]
  },
  {
   "cell_type": "markdown",
   "metadata": {},
   "source": [
    "Measuring inertia\n"
   ]
  },
  {
   "cell_type": "code",
   "execution_count": null,
   "metadata": {},
   "outputs": [],
   "source": [
    "from sklearn.cluster import KMeans\n",
    "model = KMeans(n_clusters=3)\n",
    "model.fit(X)\n",
    "print(model.inertia_)"
   ]
  },
  {
   "cell_type": "markdown",
   "metadata": {},
   "source": [
    "Plotting inertias"
   ]
  },
  {
   "cell_type": "code",
   "execution_count": null,
   "metadata": {},
   "outputs": [],
   "source": [
    "cs = range(1, 8)\n",
    "inertias = []\n",
    "for clusters in cs:\n",
    "    clusters +=1\n",
    "    model = KMeans(n_clusters=clusters)\n",
    "    model.fit(X)\n",
    "    inertias.append(model.inertia_)\n",
    "\n",
    "plt.plot(cs, inertias, '-o')\n",
    "plt.xlabel('number of clusters, k')\n",
    "plt.ylabel('inertia')\n",
    "plt.xticks(cs)\n",
    "plt.show()\n"
   ]
  },
  {
   "cell_type": "markdown",
   "metadata": {},
   "source": [
    "So how do you know what the right amount of clusters will be?\n",
    "Usually it's best to choose the lower part of elbow\n",
    "\n",
    "\n",
    "\n",
    "\n",
    "\n",
    "\n",
    " \n"
   ]
  },
  {
   "cell_type": "markdown",
   "metadata": {},
   "source": [
    "This is how the complete code looks like:"
   ]
  },
  {
   "cell_type": "code",
   "execution_count": 1,
   "metadata": {},
   "outputs": [
    {
     "name": "stdout",
     "output_type": "stream",
     "text": [
      "[1 1 1 1 1 1 1 1 1 1 1 1 1 1 1 1 1 1 1 1 1 1 1 1 1 1 1 1 1 1 1 1 1 1 1 1 1\n",
      " 1 1 1 1 1 1 1 1 1 1 1 1 1 0 0 2 0 0 0 0 0 0 0 0 0 0 0 0 0 0 0 0 0 0 0 0 0\n",
      " 0 0 0 2 0 0 0 0 0 0 0 0 0 0 0 0 0 0 0 0 0 0 0 0 0 0 2 0 2 2 2 2 0 2 2 2 2\n",
      " 2 2 0 0 2 2 2 2 0 2 0 2 0 2 2 0 0 2 2 2 2 2 0 2 2 2 2 0 2 2 2 0 2 2 2 0 2\n",
      " 2 0]\n",
      "[1 2 0]\n"
     ]
    },
    {
     "data": {
      "image/png": "[encoded data removed]",
      "text/plain": [
       "<matplotlib.figure.Figure at 0x1a393bdefd0>"
      ]
     },
     "metadata": {},
     "output_type": "display_data"
    },
    {
     "name": "stdout",
     "output_type": "stream",
     "text": [
      "     actual  labels\n",
      "0         0       1\n",
      "1         0       1\n",
      "2         0       1\n",
      "3         0       1\n",
      "4         0       1\n",
      "5         0       1\n",
      "6         0       1\n",
      "7         0       1\n",
      "8         0       1\n",
      "9         0       1\n",
      "10        0       1\n",
      "11        0       1\n",
      "12        0       1\n",
      "13        0       1\n",
      "14        0       1\n",
      "15        0       1\n",
      "16        0       1\n",
      "17        0       1\n",
      "18        0       1\n",
      "19        0       1\n",
      "20        0       1\n",
      "21        0       1\n",
      "22        0       1\n",
      "23        0       1\n",
      "24        0       1\n",
      "25        0       1\n",
      "26        0       1\n",
      "27        0       1\n",
      "28        0       1\n",
      "29        0       1\n",
      "..      ...     ...\n",
      "120       2       2\n",
      "121       2       0\n",
      "122       2       2\n",
      "123       2       0\n",
      "124       2       2\n",
      "125       2       2\n",
      "126       2       0\n",
      "127       2       0\n",
      "128       2       2\n",
      "129       2       2\n",
      "130       2       2\n",
      "131       2       2\n",
      "132       2       2\n",
      "133       2       0\n",
      "134       2       2\n",
      "135       2       2\n",
      "136       2       2\n",
      "137       2       2\n",
      "138       2       0\n",
      "139       2       2\n",
      "140       2       2\n",
      "141       2       2\n",
      "142       2       0\n",
      "143       2       2\n",
      "144       2       2\n",
      "145       2       2\n",
      "146       2       0\n",
      "147       2       2\n",
      "148       2       2\n",
      "149       2       0\n",
      "\n",
      "[150 rows x 2 columns]\n",
      "actual   0   1   2\n",
      "labels            \n",
      "0        0  48  14\n",
      "1       50   0   0\n",
      "2        0   2  36\n"
     ]
    }
   ],
   "source": [
    "import sklearn\n",
    "from sklearn.cluster import KMeans\n",
    "\n",
    "from sklearn import datasets\n",
    "iris = datasets.load_iris()\n",
    "X, y = iris.data, iris.target\n",
    "\n",
    "model = KMeans(n_clusters=3)\n",
    "model.fit(X)\n",
    "labels = model.predict(X)\n",
    "print(labels)\n",
    "\n",
    "#new samples\n",
    "new_samples = [[ 5.7, 4.4, 1.5, 0.4],\n",
    "               [ 6.5, 3., 5.5, 1.8],\n",
    "               [ 5.8, 2.7, 5.1, 1.9]]\n",
    "new_labels = model.predict(new_samples)\n",
    "print(new_labels)\n",
    "\n",
    "#Scatter-plot\n",
    "import matplotlib.pyplot as plt\n",
    "xs = X[:,0]\n",
    "ys = X[:,2]\n",
    "plt.scatter(xs, ys, c=labels)\n",
    "plt.show()\n",
    "\n",
    "#Cross-tabulation\n",
    "import pandas as pd\n",
    "df = pd.DataFrame({'labels': labels, 'actual': y})\n",
    "print(df)\n",
    "ct = pd.crosstab(df['labels'], df['actual'])\n",
    "print(ct)\n",
    "\n",
    "# Measure inertia\n",
    "from sklearn.cluster import KMeans\n",
    "model = KMeans(n_clusters=3)\n",
    "model.fit(X)\n",
    "print(model.inertia_)\n",
    "\n",
    "#Plotting Inertias\n",
    "cs = range(1, 8)\n",
    "inertias = []\n",
    "for clusters in cs:\n",
    "    clusters +=1\n",
    "    model = KMeans(n_clusters=clusters)\n",
    "    model.fit(X)\n",
    "    inertias.append(model.inertia_)\n",
    "\n",
    "plt.plot(cs, inertias, '-o')\n",
    "plt.xlabel('number of clusters, k')\n",
    "plt.ylabel('inertia')\n",
    "plt.xticks(cs)\n",
    "plt.show()"
   ]
  }
 ],
 "metadata": {
  "kernelspec": {
   "display_name": "Python 3",
   "language": "python",
   "name": "python3"
  },
  "language_info": {
   "codemirror_mode": {
    "name": "ipython",
    "version": 3
   },
   "file_extension": ".py",
   "mimetype": "text/x-python",
   "name": "python",
   "nbconvert_exporter": "python",
   "pygments_lexer": "ipython3",
   "version": "3.6.2"
  }
 },
 "nbformat": 4,
 "nbformat_minor": 2
}
