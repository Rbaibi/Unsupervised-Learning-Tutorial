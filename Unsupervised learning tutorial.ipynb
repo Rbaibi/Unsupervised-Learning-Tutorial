{
 "cells": [
  {
   "cell_type": "markdown",
   "metadata": {},
   "source": [
    "First we are going to train and predict the K-means clustering algorithm on the Iris dataset. To make it easy we will assume we have 3 clusters.\n",
    "(Later we will learn how to choose the right amount of clusters)"
   ]
  },
  {
   "cell_type": "code",
   "execution_count": 2,
   "metadata": {},
   "outputs": [
    {
     "name": "stdout",
     "output_type": "stream",
     "text": [
      "[0 0 0 0 0 0 0 0 0 0 0 0 0 0 0 0 0 0 0 0 0 0 0 0 0 0 0 0 0 0 0 0 0 0 0 0 0\n",
      " 0 0 0 0 0 0 0 0 0 0 0 0 0 1 1 2 1 1 1 1 1 1 1 1 1 1 1 1 1 1 1 1 1 1 1 1 1\n",
      " 1 1 1 2 1 1 1 1 1 1 1 1 1 1 1 1 1 1 1 1 1 1 1 1 1 1 2 1 2 2 2 2 1 2 2 2 2\n",
      " 2 2 1 1 2 2 2 2 1 2 1 2 1 2 2 1 1 2 2 2 2 2 1 2 2 2 2 1 2 2 2 1 2 2 2 1 2\n",
      " 2 1]\n"
     ]
    }
   ],
   "source": [
    "import sklearn\n",
    "import pandas as pd\n",
    "from sklearn.cluster import KMeans\n",
    "\n",
    "from sklearn import datasets\n",
    "iris = datasets.load_iris()\n",
    "X, y = iris.data, iris.target\n",
    "\n",
    "model = KMeans(n_clusters=3)\n",
    "model.fit(X)\n",
    "labels = model.predict(X)\n",
    "print(labels)\n"
   ]
  },
  {
   "cell_type": "code",
   "execution_count": null,
   "metadata": {},
   "outputs": [],
   "source": [
    " #Cluster labels for new samples\n"
   ]
  },
  {
   "cell_type": "code",
   "execution_count": null,
   "metadata": {},
   "outputs": [],
   "source": [
    "#Cluster labels for new samples\n",
    "new_samples = [[ 5.7, 4.4, 1.5, 0.4],\n",
    "               [ 6.5, 3., 5.5, 1.8],\n",
    "               [ 5.8, 2.7, 5.1, 1.9]]\n",
    "new_labels = model.predict(new_samples)\n",
    "print(new_labels)"
   ]
  },
  {
   "cell_type": "code",
   "execution_count": null,
   "metadata": {},
   "outputs": [],
   "source": [
    "#Scatter plots the predicted labels will have a different color"
   ]
  },
  {
   "cell_type": "code",
   "execution_count": null,
   "metadata": {},
   "outputs": [],
   "source": [
    "\n",
    "import matplotlib.pyplot as plt\n",
    "xs = X[:,0]\n",
    "ys = X[:,2]\n",
    "plt.scatter(xs, ys, c=labels)\n",
    "plt.show()"
   ]
  },
  {
   "cell_type": "code",
   "execution_count": null,
   "metadata": {},
   "outputs": [],
   "source": [
    "Now we are going to measure how well we have done by comparing our clusters with the actual labels in the dataset"
   ]
  },
  {
   "cell_type": "code",
   "execution_count": 4,
   "metadata": {},
   "outputs": [
    {
     "name": "stdout",
     "output_type": "stream",
     "text": [
      "     actual  labels\n",
      "0         0       0\n",
      "1         0       0\n",
      "2         0       0\n",
      "3         0       0\n",
      "4         0       0\n",
      "5         0       0\n",
      "6         0       0\n",
      "7         0       0\n",
      "8         0       0\n",
      "9         0       0\n",
      "10        0       0\n",
      "11        0       0\n",
      "12        0       0\n",
      "13        0       0\n",
      "14        0       0\n",
      "15        0       0\n",
      "16        0       0\n",
      "17        0       0\n",
      "18        0       0\n",
      "19        0       0\n",
      "20        0       0\n",
      "21        0       0\n",
      "22        0       0\n",
      "23        0       0\n",
      "24        0       0\n",
      "25        0       0\n",
      "26        0       0\n",
      "27        0       0\n",
      "28        0       0\n",
      "29        0       0\n",
      "..      ...     ...\n",
      "120       2       2\n",
      "121       2       1\n",
      "122       2       2\n",
      "123       2       1\n",
      "124       2       2\n",
      "125       2       2\n",
      "126       2       1\n",
      "127       2       1\n",
      "128       2       2\n",
      "129       2       2\n",
      "130       2       2\n",
      "131       2       2\n",
      "132       2       2\n",
      "133       2       1\n",
      "134       2       2\n",
      "135       2       2\n",
      "136       2       2\n",
      "137       2       2\n",
      "138       2       1\n",
      "139       2       2\n",
      "140       2       2\n",
      "141       2       2\n",
      "142       2       1\n",
      "143       2       2\n",
      "144       2       2\n",
      "145       2       2\n",
      "146       2       1\n",
      "147       2       2\n",
      "148       2       2\n",
      "149       2       1\n",
      "\n",
      "[150 rows x 2 columns]\n",
      "actual   0   1   2\n",
      "labels            \n",
      "0       50   0   0\n",
      "1        0  48  14\n",
      "2        0   2  36\n"
     ]
    }
   ],
   "source": [
    "\n",
    "#crosstabulation\n",
    "df = pd.DataFrame({'labels': labels, 'actual': y})\n",
    "print(df)\n",
    "ct = pd.crosstab(df['labels'], df['actual'])\n",
    "print(ct)"
   ]
  },
  {
   "cell_type": "code",
   "execution_count": null,
   "metadata": {},
   "outputs": [],
   "source": [
    "#Measuring inertia\n"
   ]
  },
  {
   "cell_type": "code",
   "execution_count": null,
   "metadata": {},
   "outputs": [],
   "source": [
    "from sklearn.cluster import KMeans\n",
    "model = KMeans(n_clusters=3)\n",
    "model.fit(X)\n",
    "print(model.inertia_)"
   ]
  },
  {
   "cell_type": "code",
   "execution_count": null,
   "metadata": {},
   "outputs": [],
   "source": [
    "#Plot the inertia"
   ]
  },
  {
   "cell_type": "code",
   "execution_count": null,
   "metadata": {},
   "outputs": [],
   "source": [
    "#from sklearn.cluster import KMeans\n",
    "#from sklearn import datasets\n",
    "#iris = datasets.load_iris()\n",
    "#X, y = iris.data, iris.target\n",
    " \n",
    "cs = range(1, 8)\n",
    "inertias = []\n",
    "for clusters in cs:\n",
    "    clusters +=1\n",
    "    model = KMeans(n_clusters=clusters)\n",
    "    model.fit(X)\n",
    "    inertias.append(model.inertia_)\n",
    "\n",
    "plt.plot(cs, inertias, '-o')\n",
    "plt.xlabel('number of clusters, k')\n",
    "plt.ylabel('inertia')\n",
    "plt.xticks(cs)\n",
    "plt.show()\n",
    "#Choose lowest part of elbow"
   ]
  },
  {
   "cell_type": "code",
   "execution_count": 3,
   "metadata": {},
   "outputs": [
    {
     "name": "stdout",
     "output_type": "stream",
     "text": [
      "[0 2 1]\n"
     ]
    },
    {
     "data": {
      "image/png": "[encoded data removed]",
      "text/plain": [
       "<matplotlib.figure.Figure at 0x11193d8d780>"
      ]
     },
     "metadata": {},
     "output_type": "display_data"
    },
    {
     "name": "stdout",
     "output_type": "stream",
     "text": [
      "     actual  labels\n",
      "0         0       0\n",
      "1         0       0\n",
      "2         0       0\n",
      "3         0       0\n",
      "4         0       0\n",
      "5         0       0\n",
      "6         0       0\n",
      "7         0       0\n",
      "8         0       0\n",
      "9         0       0\n",
      "10        0       0\n",
      "11        0       0\n",
      "12        0       0\n",
      "13        0       0\n",
      "14        0       0\n",
      "15        0       0\n",
      "16        0       0\n",
      "17        0       0\n",
      "18        0       0\n",
      "19        0       0\n",
      "20        0       0\n",
      "21        0       0\n",
      "22        0       0\n",
      "23        0       0\n",
      "24        0       0\n",
      "25        0       0\n",
      "26        0       0\n",
      "27        0       0\n",
      "28        0       0\n",
      "29        0       0\n",
      "..      ...     ...\n",
      "120       2       2\n",
      "121       2       1\n",
      "122       2       2\n",
      "123       2       1\n",
      "124       2       2\n",
      "125       2       2\n",
      "126       2       1\n",
      "127       2       1\n",
      "128       2       2\n",
      "129       2       2\n",
      "130       2       2\n",
      "131       2       2\n",
      "132       2       2\n",
      "133       2       1\n",
      "134       2       2\n",
      "135       2       2\n",
      "136       2       2\n",
      "137       2       2\n",
      "138       2       1\n",
      "139       2       2\n",
      "140       2       2\n",
      "141       2       2\n",
      "142       2       1\n",
      "143       2       2\n",
      "144       2       2\n",
      "145       2       2\n",
      "146       2       1\n",
      "147       2       2\n",
      "148       2       2\n",
      "149       2       1\n",
      "\n",
      "[150 rows x 2 columns]\n",
      "actual   0   1   2\n",
      "labels            \n",
      "0       50   0   0\n",
      "1        0  48  14\n",
      "2        0   2  36\n",
      "78.9408414261\n"
     ]
    },
    {
     "data": {
      "image/png": "[encoded data removed]",
      "text/plain": [
       "<matplotlib.figure.Figure at 0x11193d755f8>"
      ]
     },
     "metadata": {},
     "output_type": "display_data"
    }
   ],
   "source": [
    "\n",
    "\n",
    "\n",
    "\n",
    "\n",
    "\n",
    "\n",
    " \n"
   ]
  },
  {
   "cell_type": "code",
   "execution_count": null,
   "metadata": {},
   "outputs": [],
   "source": []
  }
 ],
 "metadata": {
  "kernelspec": {
   "display_name": "Python 3",
   "language": "python",
   "name": "python3"
  },
  "language_info": {
   "codemirror_mode": {
    "name": "ipython",
    "version": 3
   },
   "file_extension": ".py",
   "mimetype": "text/x-python",
   "name": "python",
   "nbconvert_exporter": "python",
   "pygments_lexer": "ipython3",
   "version": "3.6.2"
  }
 },
 "nbformat": 4,
 "nbformat_minor": 2
}
